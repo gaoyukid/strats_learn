{
 "cells": [
  {
   "cell_type": "code",
   "execution_count": 2,
   "id": "d28aa084",
   "metadata": {},
   "outputs": [
    {
     "name": "stdout",
     "output_type": "stream",
     "text": [
      "隐含波动率: 20.46%\n"
     ]
    }
   ],
   "source": [
    "import numpy as np\n",
    "from scipy.stats import norm\n",
    "from scipy.optimize import newton\n",
    "\n",
    "def black_scholes_price(S, K, T, r, sigma, q, option_type='call'):\n",
    "    d1 = (np.log(S/K) + (r - q + 0.5*sigma**2)*T) / (sigma * np.sqrt(T))\n",
    "    d2 = d1 - sigma * np.sqrt(T)\n",
    "    if option_type == 'call':\n",
    "        price = S * np.exp(-q*T) * norm.cdf(d1) - K * np.exp(-r*T) * norm.cdf(d2)\n",
    "    else:\n",
    "        price = K * np.exp(-r*T) * norm.cdf(-d2) - S * np.exp(-q*T) * norm.cdf(-d1)\n",
    "    return price\n",
    "\n",
    "def implied_volatility(S, K, T, r, q, market_price, option_type='call'):\n",
    "    # 定义目标函数：模型价格与市场价格的差值\n",
    "    def objective(sigma):\n",
    "        return black_scholes_price(S, K, T, r, sigma, q, option_type) - market_price\n",
    "    \n",
    "    # 初始猜测范围（通常取0.1~1.0）\n",
    "    initial_guess = 0.3\n",
    "    return newton(objective, x0=initial_guess, maxiter=100)\n",
    "\n",
    "# 示例：计算隐含波动率\n",
    "S = 100.0       # 标的资产价格\n",
    "K = 100.0       # 行权价\n",
    "T = 1.0         # 到期时间（年）\n",
    "r = 0.05        # 无风险利率\n",
    "q = 0.01        # 股息率\n",
    "market_price = 10.0  # 假设市场报价为10美元\n",
    "iv = implied_volatility(S, K, T, r, q, market_price, 'call')\n",
    "print(f\"隐含波动率: {iv:.2%}\")"
   ]
  },
  {
   "cell_type": "code",
   "execution_count": 9,
   "id": "5e3e4e33",
   "metadata": {},
   "outputs": [
    {
     "data": {
      "text/plain": [
       "[[0.3, 0.28, 0.25, 0.22],\n",
       " [0.28, 0.25, 0.23, 0.2],\n",
       " [0.25, 0.23, 0.2, 0.18],\n",
       " [0.23, 0.22, 0.19, 0.17],\n",
       " [0.22, 0.2, 0.18, 0.16]]"
      ]
     },
     "execution_count": 9,
     "metadata": {},
     "output_type": "execute_result"
    }
   ],
   "source": [
    "K1 = max([k for k in K_grid if k <= K])\n",
    "T1 = max([t for t in T_grid if t <= T])\n",
    "K_grid.index(K1)\n",
    "IV_grid\n",
    "#IV_grid[K_grid.index(K1), T_grid.index(T1)]"
   ]
  },
  {
   "cell_type": "code",
   "execution_count": 32,
   "id": "916b4fe7",
   "metadata": {},
   "outputs": [
    {
     "name": "stdout",
     "output_type": "stream",
     "text": [
      "插值波动率（K=80, T=0.25）: 30.00%\n",
      "插值波动率（K=81, T=0.25）: 29.80%\n",
      "插值波动率（K=82, T=0.25）: 29.60%\n",
      "插值波动率（K=83, T=0.25）: 29.40%\n",
      "插值波动率（K=84, T=0.25）: 29.20%\n",
      "插值波动率（K=85, T=0.25）: 29.00%\n",
      "插值波动率（K=86, T=0.25）: 28.80%\n",
      "插值波动率（K=87, T=0.25）: 28.60%\n",
      "插值波动率（K=88, T=0.25）: 28.40%\n",
      "插值波动率（K=89, T=0.25）: 28.20%\n",
      "插值波动率（K=90, T=0.25）: 28.00%\n"
     ]
    }
   ],
   "source": [
    "def bilinear_interpolation(K, T, K_grid, T_grid, IV_grid):\n",
    "    # 找到最近的四个网格点\n",
    "    K1 = max([k for k in K_grid if k <= K])\n",
    "    K2 = min([k for k in K_grid if k >= K])\n",
    "    T1 = max([t for t in T_grid if t <= T])\n",
    "    T2 = min([t for t in T_grid if t >= T])\n",
    "    \n",
    "    # 获取四个点的波动率\n",
    "    IV11 = IV_grid[K_grid.index(K1)][T_grid.index(T1)]\n",
    "    IV12 = IV_grid[K_grid.index(K1)][T_grid.index(T2)]\n",
    "    IV21 = IV_grid[K_grid.index(K2)][T_grid.index(T1)]\n",
    "    IV22 = IV_grid[K_grid.index(K2)][T_grid.index(T2)]\n",
    "    \n",
    "    # 计算插值权重\n",
    "    weight_K = (K - K1) / (K2 - K1) if K2 != K1 else 0.0\n",
    "    weight_T = (T - T1) / (T2 - T1) if T2 != T1 else 0.0\n",
    "    \n",
    "    # 双线性插值公式\n",
    "    IV = (IV11 * (1 - weight_K) * (1 - weight_T) +\n",
    "          IV21 * weight_K * (1 - weight_T) +\n",
    "          IV12 * (1 - weight_K) * weight_T +\n",
    "          IV22 * weight_K * weight_T)\n",
    "    return IV\n",
    "\n",
    "# 示例：插值计算 K=81, T=0.75 的波动率\n",
    "K_grid = [80, 90, 100, 110, 120]\n",
    "T_grid = [0.25, 0.5, 1.0, 2.0]\n",
    "IV_grid = [\n",
    "    [0.30, 0.28, 0.25, 0.22],   # K=80\n",
    "    [0.28, 0.25, 0.23, 0.20],   # K=90\n",
    "    [0.25, 0.23, 0.20, 0.18],   # K=100\n",
    "    [0.23, 0.22, 0.19, 0.17],   # K=110\n",
    "    [0.22, 0.20, 0.18, 0.16],   # K=120\n",
    "]\n",
    "\n",
    "\n",
    "for k in range(80, 91):\n",
    "    IV_interp = bilinear_interpolation(k, 0.25, K_grid, T_grid, IV_grid)\n",
    "    print(f\"插值波动率（K={k}, T=0.25）: {IV_interp:.2%}\")\n"
   ]
  }
 ],
 "metadata": {
  "kernelspec": {
   "display_name": ".venv",
   "language": "python",
   "name": "python3"
  },
  "language_info": {
   "codemirror_mode": {
    "name": "ipython",
    "version": 3
   },
   "file_extension": ".py",
   "mimetype": "text/x-python",
   "name": "python",
   "nbconvert_exporter": "python",
   "pygments_lexer": "ipython3",
   "version": "3.10.4"
  }
 },
 "nbformat": 4,
 "nbformat_minor": 5
}
