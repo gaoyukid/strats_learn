{
 "cells": [
  {
   "cell_type": "code",
   "execution_count": 1,
   "id": "edbca1f6",
   "metadata": {},
   "outputs": [],
   "source": [
    "import numpy as np\n",
    "from scipy.stats import norm\n",
    "\n",
    "def black_scholes_greeks(S, K, T, r, sigma, q, option_type='call'):\n",
    "    \"\"\"\n",
    "    计算欧式期权的价格及希腊字母（Delta, Gamma, Theta, Vega, Rho）\n",
    "    \"\"\"\n",
    "    d1 = (np.log(S / K) + (r - q + 0.5 * sigma**2) * T) / (sigma * np.sqrt(T))\n",
    "    d2 = d1 - sigma * np.sqrt(T)\n",
    "    N_d1 = norm.cdf(d1)\n",
    "    N_d2 = norm.cdf(d2)\n",
    "    n_d1 = norm.pdf(d1)\n",
    "    \n",
    "    # 期权价格\n",
    "    if option_type == 'call':\n",
    "        price = S * np.exp(-q * T) * N_d1 - K * np.exp(-r * T) * N_d2\n",
    "    else:\n",
    "        price = K * np.exp(-r * T) * norm.cdf(-d2) - S * np.exp(-q * T) * norm.cdf(-d1)\n",
    "    \n",
    "    # Greeks\n",
    "    delta = np.exp(-q * T) * (N_d1 if option_type == 'call' else (N_d1 - 1))\n",
    "    gamma = np.exp(-q * T) * n_d1 / (S * sigma * np.sqrt(T))\n",
    "    vega = S * np.exp(-q * T) * n_d1 * np.sqrt(T)\n",
    "    \n",
    "    # Theta计算\n",
    "    if option_type == 'call':\n",
    "        theta = (- (S * np.exp(-q * T) * n_d1 * sigma) / (2 * np.sqrt(T)) \n",
    "                 + q * S * np.exp(-q * T) * N_d1 \n",
    "                 - r * K * np.exp(-r * T) * N_d2)\n",
    "    else:\n",
    "        theta = (- (S * np.exp(-q * T) * n_d1 * sigma) / (2 * np.sqrt(T)) \n",
    "                 - q * S * np.exp(-q * T) * norm.cdf(-d1) \n",
    "                 + r * K * np.exp(-r * T) * norm.cdf(-d2))\n",
    "    \n",
    "    # Rho计算\n",
    "    if option_type == 'call':\n",
    "        rho = K * T * np.exp(-r * T) * N_d2\n",
    "    else:\n",
    "        rho = -K * T * np.exp(-r * T) * norm.cdf(-d2)\n",
    "    \n",
    "    return {\n",
    "        'price': price,\n",
    "        'delta': delta,\n",
    "        'gamma': gamma,\n",
    "        'theta': theta / 365,  # 转换为每日Theta\n",
    "        'vega': vega,\n",
    "        'rho': rho\n",
    "    }\n"
   ]
  },
  {
   "cell_type": "code",
   "execution_count": 2,
   "id": "6041d7d6",
   "metadata": {},
   "outputs": [
    {
     "name": "stdout",
     "output_type": "stream",
     "text": [
      "Call Greeks: {'price': np.float64(9.826297782739111), 'delta': np.float64(0.6117631008098845), 'gamma': np.float64(0.01887964716453252), 'theta': np.float64(-0.015703197115093385), 'vega': np.float64(37.75929432906503), 'rho': np.float64(51.35001229824934)}\n",
      "Put Greeks: {'price': np.float64(5.944256857893713), 'delta': np.float64(-0.3782867329392836), 'gamma': np.float64(0.01887964716453252), 'theta': np.float64(-0.005385122351382695), 'vega': np.float64(37.75929432906503), 'rho': np.float64(-43.77293015182207)}\n"
     ]
    }
   ],
   "source": [
    "\n",
    "# 示例参数\n",
    "S = 100.0    # 标的资产价格\n",
    "K = 100.0    # 行权价\n",
    "T = 1.0      # 到期时间（年）\n",
    "r = 0.05     # 无风险利率\n",
    "sigma = 0.2  # 波动率\n",
    "q = 0.01     # 股息率\n",
    "\n",
    "call_greeks = black_scholes_greeks(S, K, T, r, sigma, q, 'call')\n",
    "put_greeks = black_scholes_greeks(S, K, T, r, sigma, q, 'put')\n",
    "\n",
    "print(\"Call Greeks:\", call_greeks)\n",
    "print(\"Put Greeks:\", put_greeks)"
   ]
  }
 ],
 "metadata": {
  "kernelspec": {
   "display_name": ".venv",
   "language": "python",
   "name": "python3"
  },
  "language_info": {
   "codemirror_mode": {
    "name": "ipython",
    "version": 3
   },
   "file_extension": ".py",
   "mimetype": "text/x-python",
   "name": "python",
   "nbconvert_exporter": "python",
   "pygments_lexer": "ipython3",
   "version": "3.10.4"
  }
 },
 "nbformat": 4,
 "nbformat_minor": 5
}
